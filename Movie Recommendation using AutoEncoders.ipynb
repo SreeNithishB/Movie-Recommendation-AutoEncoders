{
 "cells": [
  {
   "cell_type": "markdown",
   "id": "guided-explorer",
   "metadata": {},
   "source": [
    "# MOVIE RECOMMENDATION USING AUTO ENCODERS"
   ]
  },
  {
   "cell_type": "markdown",
   "id": "gorgeous-safety",
   "metadata": {},
   "source": [
    "# Importing the libraries"
   ]
  },
  {
   "cell_type": "code",
   "execution_count": 1,
   "id": "western-gallery",
   "metadata": {},
   "outputs": [],
   "source": [
    "import numpy as np\n",
    "import pandas as pd\n",
    "import torch\n",
    "import torch.nn as nn\n",
    "import torch.nn.parallel\n",
    "import torch.optim as optim\n",
    "import torch.utils.data\n",
    "from torch.autograd import variable"
   ]
  },
  {
   "cell_type": "markdown",
   "id": "cellular-lawrence",
   "metadata": {},
   "source": [
    "# Constants"
   ]
  },
  {
   "cell_type": "code",
   "execution_count": 2,
   "id": "behind-ceremony",
   "metadata": {},
   "outputs": [],
   "source": [
    "MOVIES_DAT_1M = 'Movielense_Dataset/ml-1m/movies.dat'\n",
    "USERS_DAT_1M = 'Movielense_Dataset/ml-1m/users.dat'\n",
    "RATINGS_DAT_1M = 'Movielense_Dataset/ml-1m/ratings.dat'\n",
    "TRAINING_SET_100K_U1 = 'Movielense_Dataset/ml-100k/u1.base'\n",
    "TEST_SET_100K_U1 = 'Movielense_Dataset/ml-100k/u1.test'"
   ]
  },
  {
   "cell_type": "markdown",
   "id": "collect-lotus",
   "metadata": {},
   "source": [
    "# Importing the Dataset"
   ]
  },
  {
   "cell_type": "code",
   "execution_count": 3,
   "id": "racial-architect",
   "metadata": {},
   "outputs": [
    {
     "data": {
      "text/html": [
       "<div>\n",
       "<style scoped>\n",
       "    .dataframe tbody tr th:only-of-type {\n",
       "        vertical-align: middle;\n",
       "    }\n",
       "\n",
       "    .dataframe tbody tr th {\n",
       "        vertical-align: top;\n",
       "    }\n",
       "\n",
       "    .dataframe thead th {\n",
       "        text-align: right;\n",
       "    }\n",
       "</style>\n",
       "<table border=\"1\" class=\"dataframe\">\n",
       "  <thead>\n",
       "    <tr style=\"text-align: right;\">\n",
       "      <th></th>\n",
       "      <th>MOVIE_ID</th>\n",
       "      <th>MOVIE_NAME</th>\n",
       "      <th>GENERE</th>\n",
       "    </tr>\n",
       "  </thead>\n",
       "  <tbody>\n",
       "    <tr>\n",
       "      <th>0</th>\n",
       "      <td>1</td>\n",
       "      <td>Toy Story (1995)</td>\n",
       "      <td>Animation|Children's|Comedy</td>\n",
       "    </tr>\n",
       "    <tr>\n",
       "      <th>1</th>\n",
       "      <td>2</td>\n",
       "      <td>Jumanji (1995)</td>\n",
       "      <td>Adventure|Children's|Fantasy</td>\n",
       "    </tr>\n",
       "    <tr>\n",
       "      <th>2</th>\n",
       "      <td>3</td>\n",
       "      <td>Grumpier Old Men (1995)</td>\n",
       "      <td>Comedy|Romance</td>\n",
       "    </tr>\n",
       "    <tr>\n",
       "      <th>3</th>\n",
       "      <td>4</td>\n",
       "      <td>Waiting to Exhale (1995)</td>\n",
       "      <td>Comedy|Drama</td>\n",
       "    </tr>\n",
       "    <tr>\n",
       "      <th>4</th>\n",
       "      <td>5</td>\n",
       "      <td>Father of the Bride Part II (1995)</td>\n",
       "      <td>Comedy</td>\n",
       "    </tr>\n",
       "  </tbody>\n",
       "</table>\n",
       "</div>"
      ],
      "text/plain": [
       "   MOVIE_ID                          MOVIE_NAME                        GENERE\n",
       "0         1                    Toy Story (1995)   Animation|Children's|Comedy\n",
       "1         2                      Jumanji (1995)  Adventure|Children's|Fantasy\n",
       "2         3             Grumpier Old Men (1995)                Comedy|Romance\n",
       "3         4            Waiting to Exhale (1995)                  Comedy|Drama\n",
       "4         5  Father of the Bride Part II (1995)                        Comedy"
      ]
     },
     "execution_count": 3,
     "metadata": {},
     "output_type": "execute_result"
    }
   ],
   "source": [
    "colnames = ['MOVIE_ID', 'MOVIE_NAME', 'GENERE']\n",
    "movies = pd.read_csv(MOVIES_DAT_1M, sep = '::', header = None, engine = 'python', encoding = 'latin-1', names = colnames)\n",
    "movies.head()"
   ]
  },
  {
   "cell_type": "code",
   "execution_count": 4,
   "id": "infinite-impossible",
   "metadata": {},
   "outputs": [
    {
     "data": {
      "text/html": [
       "<div>\n",
       "<style scoped>\n",
       "    .dataframe tbody tr th:only-of-type {\n",
       "        vertical-align: middle;\n",
       "    }\n",
       "\n",
       "    .dataframe tbody tr th {\n",
       "        vertical-align: top;\n",
       "    }\n",
       "\n",
       "    .dataframe thead th {\n",
       "        text-align: right;\n",
       "    }\n",
       "</style>\n",
       "<table border=\"1\" class=\"dataframe\">\n",
       "  <thead>\n",
       "    <tr style=\"text-align: right;\">\n",
       "      <th></th>\n",
       "      <th>USER_ID</th>\n",
       "      <th>GENDER</th>\n",
       "      <th>AGE</th>\n",
       "      <th>USERS_JOB</th>\n",
       "      <th>ZIP_CODE</th>\n",
       "    </tr>\n",
       "  </thead>\n",
       "  <tbody>\n",
       "    <tr>\n",
       "      <th>0</th>\n",
       "      <td>1</td>\n",
       "      <td>F</td>\n",
       "      <td>1</td>\n",
       "      <td>10</td>\n",
       "      <td>48067</td>\n",
       "    </tr>\n",
       "    <tr>\n",
       "      <th>1</th>\n",
       "      <td>2</td>\n",
       "      <td>M</td>\n",
       "      <td>56</td>\n",
       "      <td>16</td>\n",
       "      <td>70072</td>\n",
       "    </tr>\n",
       "    <tr>\n",
       "      <th>2</th>\n",
       "      <td>3</td>\n",
       "      <td>M</td>\n",
       "      <td>25</td>\n",
       "      <td>15</td>\n",
       "      <td>55117</td>\n",
       "    </tr>\n",
       "    <tr>\n",
       "      <th>3</th>\n",
       "      <td>4</td>\n",
       "      <td>M</td>\n",
       "      <td>45</td>\n",
       "      <td>7</td>\n",
       "      <td>02460</td>\n",
       "    </tr>\n",
       "    <tr>\n",
       "      <th>4</th>\n",
       "      <td>5</td>\n",
       "      <td>M</td>\n",
       "      <td>25</td>\n",
       "      <td>20</td>\n",
       "      <td>55455</td>\n",
       "    </tr>\n",
       "  </tbody>\n",
       "</table>\n",
       "</div>"
      ],
      "text/plain": [
       "   USER_ID GENDER  AGE  USERS_JOB ZIP_CODE\n",
       "0        1      F    1         10    48067\n",
       "1        2      M   56         16    70072\n",
       "2        3      M   25         15    55117\n",
       "3        4      M   45          7    02460\n",
       "4        5      M   25         20    55455"
      ]
     },
     "execution_count": 4,
     "metadata": {},
     "output_type": "execute_result"
    }
   ],
   "source": [
    "colnames = ['USER_ID', 'GENDER', 'AGE', 'USERS_JOB', 'ZIP_CODE']\n",
    "users = pd.read_csv(USERS_DAT_1M, sep = '::', header = None, engine = 'python', encoding = 'latin-1', names = colnames)\n",
    "users.head()"
   ]
  },
  {
   "cell_type": "code",
   "execution_count": 5,
   "id": "brief-missouri",
   "metadata": {},
   "outputs": [
    {
     "data": {
      "text/html": [
       "<div>\n",
       "<style scoped>\n",
       "    .dataframe tbody tr th:only-of-type {\n",
       "        vertical-align: middle;\n",
       "    }\n",
       "\n",
       "    .dataframe tbody tr th {\n",
       "        vertical-align: top;\n",
       "    }\n",
       "\n",
       "    .dataframe thead th {\n",
       "        text-align: right;\n",
       "    }\n",
       "</style>\n",
       "<table border=\"1\" class=\"dataframe\">\n",
       "  <thead>\n",
       "    <tr style=\"text-align: right;\">\n",
       "      <th></th>\n",
       "      <th>USER_ID</th>\n",
       "      <th>MOVIE_ID</th>\n",
       "      <th>RATINGS</th>\n",
       "      <th>TIMESTAMP</th>\n",
       "    </tr>\n",
       "  </thead>\n",
       "  <tbody>\n",
       "    <tr>\n",
       "      <th>0</th>\n",
       "      <td>1</td>\n",
       "      <td>1193</td>\n",
       "      <td>5</td>\n",
       "      <td>978300760</td>\n",
       "    </tr>\n",
       "    <tr>\n",
       "      <th>1</th>\n",
       "      <td>1</td>\n",
       "      <td>661</td>\n",
       "      <td>3</td>\n",
       "      <td>978302109</td>\n",
       "    </tr>\n",
       "    <tr>\n",
       "      <th>2</th>\n",
       "      <td>1</td>\n",
       "      <td>914</td>\n",
       "      <td>3</td>\n",
       "      <td>978301968</td>\n",
       "    </tr>\n",
       "    <tr>\n",
       "      <th>3</th>\n",
       "      <td>1</td>\n",
       "      <td>3408</td>\n",
       "      <td>4</td>\n",
       "      <td>978300275</td>\n",
       "    </tr>\n",
       "    <tr>\n",
       "      <th>4</th>\n",
       "      <td>1</td>\n",
       "      <td>2355</td>\n",
       "      <td>5</td>\n",
       "      <td>978824291</td>\n",
       "    </tr>\n",
       "  </tbody>\n",
       "</table>\n",
       "</div>"
      ],
      "text/plain": [
       "   USER_ID  MOVIE_ID  RATINGS  TIMESTAMP\n",
       "0        1      1193        5  978300760\n",
       "1        1       661        3  978302109\n",
       "2        1       914        3  978301968\n",
       "3        1      3408        4  978300275\n",
       "4        1      2355        5  978824291"
      ]
     },
     "execution_count": 5,
     "metadata": {},
     "output_type": "execute_result"
    }
   ],
   "source": [
    "colnames = ['USER_ID', 'MOVIE_ID', 'RATINGS', 'TIMESTAMP']\n",
    "ratings = pd.read_csv(RATINGS_DAT_1M, sep = '::', header = None, engine = 'python', encoding = 'latin-1', names = colnames)\n",
    "ratings.head()"
   ]
  },
  {
   "cell_type": "markdown",
   "id": "black-scottish",
   "metadata": {},
   "source": [
    "# Preparing the training set and the test set"
   ]
  },
  {
   "cell_type": "code",
   "execution_count": 6,
   "id": "american-terminal",
   "metadata": {},
   "outputs": [
    {
     "name": "stdout",
     "output_type": "stream",
     "text": [
      "Training Set Shape:  (80000, 4)\n"
     ]
    }
   ],
   "source": [
    "colnames = ['USER_ID', 'MOVIE_ID', 'RATINGS', 'TIMESTAMP']\n",
    "training_set = pd.read_csv(TRAINING_SET_100K_U1, delimiter = '\\t', header = None, names = colnames)\n",
    "training_set = np.array(training_set, dtype = 'int64') # converting it into numpy array\n",
    "print('Training Set Shape: ', training_set.shape)"
   ]
  },
  {
   "cell_type": "code",
   "execution_count": 7,
   "id": "spare-sister",
   "metadata": {},
   "outputs": [
    {
     "name": "stdout",
     "output_type": "stream",
     "text": [
      "Test Set Shape:  (20000, 4)\n"
     ]
    }
   ],
   "source": [
    "colnames = ['USER_ID', 'MOVIE_ID', 'RATINGS', 'TIMESTAMP']\n",
    "test_set = pd.read_csv(TEST_SET_100K_U1, delimiter = '\\t', header = None, names = colnames)\n",
    "test_set = np.array(test_set, dtype = 'int64') # converting it into numpy array\n",
    "print('Test Set Shape: ', test_set.shape)"
   ]
  },
  {
   "cell_type": "markdown",
   "id": "superior-sunday",
   "metadata": {},
   "source": [
    "# Getting Number of Users and Movies"
   ]
  },
  {
   "cell_type": "code",
   "execution_count": 8,
   "id": "occasional-terrorist",
   "metadata": {},
   "outputs": [
    {
     "name": "stdout",
     "output_type": "stream",
     "text": [
      "Number of Users:  943\n",
      "Number of Movies:  1682\n"
     ]
    }
   ],
   "source": [
    "nb_users = int(max(max(training_set[:, 0]), max(test_set[:, 0])))\n",
    "nb_movies = int(max(max(training_set[:, 1]), max(test_set[:, 1])))\n",
    "print('Number of Users: ', nb_users)\n",
    "print('Number of Movies: ', nb_movies)"
   ]
  },
  {
   "cell_type": "markdown",
   "id": "suspended-message",
   "metadata": {},
   "source": [
    "## Converting the data into an array with users in lines and movies in columns"
   ]
  },
  {
   "cell_type": "code",
   "execution_count": 9,
   "id": "efficient-timer",
   "metadata": {},
   "outputs": [],
   "source": [
    "\"\"\"converts the data into an array with users in lines and movies in columns\"\"\"\n",
    "def convert(data):\n",
    "    new_data = []\n",
    "    for id_users in range(1, nb_users + 1):\n",
    "        id_movies = data[:, 1][data[:, 0] == id_users]\n",
    "        id_ratings = data[:, 2][data[:, 0] == id_users]\n",
    "        ratings = np.zeros(nb_movies)\n",
    "        ratings[id_movies - 1] = id_ratings\n",
    "        new_data.append(list(ratings))\n",
    "    return new_data"
   ]
  },
  {
   "cell_type": "code",
   "execution_count": 10,
   "id": "federal-manual",
   "metadata": {},
   "outputs": [],
   "source": [
    "training_set = convert(training_set)\n",
    "test_set = convert(test_set)"
   ]
  },
  {
   "cell_type": "markdown",
   "id": "blond-treasure",
   "metadata": {},
   "source": [
    "# Converting the data into Torch tensors"
   ]
  },
  {
   "cell_type": "code",
   "execution_count": 11,
   "id": "close-cambodia",
   "metadata": {},
   "outputs": [],
   "source": [
    "training_set = torch.FloatTensor(training_set)\n",
    "test_set = torch.FloatTensor(test_set)"
   ]
  },
  {
   "cell_type": "markdown",
   "id": "residential-psychiatry",
   "metadata": {},
   "source": [
    "# Creating the Architecture of the Neural Network"
   ]
  },
  {
   "cell_type": "code",
   "execution_count": 14,
   "id": "prerequisite-lightning",
   "metadata": {},
   "outputs": [],
   "source": [
    "class SAE(nn.Module):\n",
    "    \"\"\"stacked auto encoders\"\"\"\n",
    "    def __init__(self, ):\n",
    "        super(SAE, self).__init__()\n",
    "        self.fc1 = nn.Linear(nb_movies, 20)\n",
    "        self.fc2 = nn.Linear(20, 10)\n",
    "        self.fc3 = nn.Linear(10, 20)\n",
    "        self.fc4 = nn.Linear(20, nb_movies)\n",
    "        self.activation = nn.Sigmoid()\n",
    "        \n",
    "    def forward(self, x):\n",
    "        \"\"\"x - input vector\"\"\"\n",
    "        x = self.activation(self.fc1(x)) # encoding\n",
    "        x = self.activation(self.fc2(x)) # encoding\n",
    "        x = self.activation(self.fc3(x)) # decoding\n",
    "        x = self.fc4(x) # decoded output vector\n",
    "        return x"
   ]
  },
  {
   "cell_type": "code",
   "execution_count": 15,
   "id": "narrative-updating",
   "metadata": {},
   "outputs": [],
   "source": [
    "sae = SAE()\n",
    "criterion = nn.MSELoss()\n",
    "optimizer = optim.RMSprop(sae.parameters(), lr = 0.01, weight_decay = 0.5)"
   ]
  },
  {
   "cell_type": "markdown",
   "id": "mysterious-louisville",
   "metadata": {},
   "source": [
    "# Training the Stacked Auto Encoder"
   ]
  },
  {
   "cell_type": "code",
   "execution_count": 47,
   "id": "demographic-artist",
   "metadata": {
    "scrolled": true
   },
   "outputs": [
    {
     "name": "stdout",
     "output_type": "stream",
     "text": [
      "epoch: 1 loss: 1.7662807369421898\n",
      "epoch: 2 loss: 1.096584254194618\n",
      "epoch: 3 loss: 1.0533869730529886\n",
      "epoch: 4 loss: 1.0382287552190683\n",
      "epoch: 5 loss: 1.0309408815839998\n",
      "epoch: 6 loss: 1.026459729473496\n",
      "epoch: 7 loss: 1.023837112656753\n",
      "epoch: 8 loss: 1.0217030243164513\n",
      "epoch: 9 loss: 1.020562484715003\n",
      "epoch: 10 loss: 1.019451787369806\n",
      "epoch: 11 loss: 1.0189997818931271\n",
      "epoch: 12 loss: 1.0184310270026153\n",
      "epoch: 13 loss: 1.0177965263871165\n",
      "epoch: 14 loss: 1.0175584351295701\n",
      "epoch: 15 loss: 1.0173615050775942\n",
      "epoch: 16 loss: 1.016970564676673\n",
      "epoch: 17 loss: 1.0165178412788531\n",
      "epoch: 18 loss: 1.0164072693303083\n",
      "epoch: 19 loss: 1.016222020112096\n",
      "epoch: 20 loss: 1.0163464047532178\n",
      "epoch: 21 loss: 1.0160947316897966\n",
      "epoch: 22 loss: 1.015964803044597\n",
      "epoch: 23 loss: 1.0158801330878988\n",
      "epoch: 24 loss: 1.0157779124955792\n",
      "epoch: 25 loss: 1.0154018873375494\n",
      "epoch: 26 loss: 1.0156976938572655\n",
      "epoch: 27 loss: 1.0154120490236016\n",
      "epoch: 28 loss: 1.0149982775805735\n",
      "epoch: 29 loss: 1.012821639598742\n",
      "epoch: 30 loss: 1.0111766587344193\n",
      "epoch: 31 loss: 1.0103123036058432\n",
      "epoch: 32 loss: 1.0080998294984338\n",
      "epoch: 33 loss: 1.0079873504789154\n",
      "epoch: 34 loss: 1.003239586335603\n",
      "epoch: 35 loss: 1.0012181401219606\n",
      "epoch: 36 loss: 0.9991743901111266\n",
      "epoch: 37 loss: 0.9987849003969336\n",
      "epoch: 38 loss: 0.9971218395464003\n",
      "epoch: 39 loss: 0.9936334498036806\n",
      "epoch: 40 loss: 0.9894130921666442\n",
      "epoch: 41 loss: 0.992904893986942\n",
      "epoch: 42 loss: 0.989780993255211\n",
      "epoch: 43 loss: 0.9875548290104017\n",
      "epoch: 44 loss: 0.9861130754109394\n",
      "epoch: 45 loss: 0.9824089886161782\n",
      "epoch: 46 loss: 0.9826936002497372\n",
      "epoch: 47 loss: 0.9855119046634051\n",
      "epoch: 48 loss: 0.9831564811825293\n",
      "epoch: 49 loss: 0.9805514722617302\n",
      "epoch: 50 loss: 0.9750279906705185\n",
      "epoch: 51 loss: 0.9784912896273311\n",
      "epoch: 52 loss: 0.9719850626396311\n",
      "epoch: 53 loss: 0.9736516560942957\n",
      "epoch: 54 loss: 0.9730680502081769\n",
      "epoch: 55 loss: 0.9777953714874161\n",
      "epoch: 56 loss: 0.9736407853281354\n",
      "epoch: 57 loss: 0.9717031382188306\n",
      "epoch: 58 loss: 0.9729820767747966\n",
      "epoch: 59 loss: 0.9717030081175543\n",
      "epoch: 60 loss: 0.968008604878858\n",
      "epoch: 61 loss: 0.9675920055173922\n",
      "epoch: 62 loss: 0.9650720830475771\n",
      "epoch: 63 loss: 0.9655030746270831\n",
      "epoch: 64 loss: 0.9600563812649695\n",
      "epoch: 65 loss: 0.962517518432254\n",
      "epoch: 66 loss: 0.9622487080391052\n",
      "epoch: 67 loss: 0.9625271088320843\n",
      "epoch: 68 loss: 0.9568134385259706\n",
      "epoch: 69 loss: 0.957018089651023\n",
      "epoch: 70 loss: 0.9587991345627654\n",
      "epoch: 71 loss: 0.961111015196185\n",
      "epoch: 72 loss: 0.9556815013685431\n",
      "epoch: 73 loss: 0.9550829903215089\n",
      "epoch: 74 loss: 0.9510879067229151\n",
      "epoch: 75 loss: 0.953288850799714\n",
      "epoch: 76 loss: 0.9496792964740514\n",
      "epoch: 77 loss: 0.952197183953296\n",
      "epoch: 78 loss: 0.948653234417951\n",
      "epoch: 79 loss: 0.9484425816351326\n",
      "epoch: 80 loss: 0.9483388134438078\n",
      "epoch: 81 loss: 0.9484344647649513\n",
      "epoch: 82 loss: 0.9455918652502133\n",
      "epoch: 83 loss: 0.946127216225108\n",
      "epoch: 84 loss: 0.9432131470314625\n",
      "epoch: 85 loss: 0.9440122784654824\n",
      "epoch: 86 loss: 0.9420197741630176\n",
      "epoch: 87 loss: 0.941964077463474\n",
      "epoch: 88 loss: 0.9400964600379118\n",
      "epoch: 89 loss: 0.9408414437947576\n",
      "epoch: 90 loss: 0.9392739046726759\n",
      "epoch: 91 loss: 0.9410392050954772\n",
      "epoch: 92 loss: 0.9385528224674647\n",
      "epoch: 93 loss: 0.9385400999580518\n",
      "epoch: 94 loss: 0.9367567700012532\n",
      "epoch: 95 loss: 0.9381266216152468\n",
      "epoch: 96 loss: 0.9365296769673327\n",
      "epoch: 97 loss: 0.9380689332600106\n",
      "epoch: 98 loss: 0.9358094979437593\n",
      "epoch: 99 loss: 0.9358020290250554\n",
      "epoch: 100 loss: 0.9346984572480438\n",
      "epoch: 101 loss: 0.9359076590519984\n",
      "epoch: 102 loss: 0.933581442387737\n",
      "epoch: 103 loss: 0.9341784731062692\n",
      "epoch: 104 loss: 0.9323823510596115\n",
      "epoch: 105 loss: 0.9333689806237726\n",
      "epoch: 106 loss: 0.932008982767445\n",
      "epoch: 107 loss: 0.9326907728124546\n",
      "epoch: 108 loss: 0.9321016254061439\n",
      "epoch: 109 loss: 0.9327290169625039\n",
      "epoch: 110 loss: 0.9313109197741527\n",
      "epoch: 111 loss: 0.9313326637113019\n",
      "epoch: 112 loss: 0.930585744951231\n",
      "epoch: 113 loss: 0.9311354982198445\n",
      "epoch: 114 loss: 0.930424217467598\n",
      "epoch: 115 loss: 0.9304566089167368\n",
      "epoch: 116 loss: 0.9294882878862121\n",
      "epoch: 117 loss: 0.9296321678838175\n",
      "epoch: 118 loss: 0.9289089838233798\n",
      "epoch: 119 loss: 0.9302187273945229\n",
      "epoch: 120 loss: 0.9283530872111995\n",
      "epoch: 121 loss: 0.9289184872057075\n",
      "epoch: 122 loss: 0.928119935481536\n",
      "epoch: 123 loss: 0.9286328965702311\n",
      "epoch: 124 loss: 0.9270535781121224\n",
      "epoch: 125 loss: 0.9274413366450123\n",
      "epoch: 126 loss: 0.9270531737818204\n",
      "epoch: 127 loss: 0.9270115701164798\n",
      "epoch: 128 loss: 0.9262281667697622\n",
      "epoch: 129 loss: 0.9262052122344374\n",
      "epoch: 130 loss: 0.9255790729702872\n",
      "epoch: 131 loss: 0.9256345007562823\n",
      "epoch: 132 loss: 0.9248845358715843\n",
      "epoch: 133 loss: 0.9249325219515124\n",
      "epoch: 134 loss: 0.9243732776625443\n",
      "epoch: 135 loss: 0.9245388222182278\n",
      "epoch: 136 loss: 0.9239612252523379\n",
      "epoch: 137 loss: 0.9236913506126545\n",
      "epoch: 138 loss: 0.9231035231207949\n",
      "epoch: 139 loss: 0.9231664276632349\n",
      "epoch: 140 loss: 0.9230006327581395\n",
      "epoch: 141 loss: 0.9230179517268599\n",
      "epoch: 142 loss: 0.9224834230168161\n",
      "epoch: 143 loss: 0.9225175888020674\n",
      "epoch: 144 loss: 0.922195174829695\n",
      "epoch: 145 loss: 0.9215728441486629\n",
      "epoch: 146 loss: 0.921721565378194\n",
      "epoch: 147 loss: 0.9219219799991297\n",
      "epoch: 148 loss: 0.921180817780724\n",
      "epoch: 149 loss: 0.9205998217049376\n",
      "epoch: 150 loss: 0.9204463133555418\n",
      "epoch: 151 loss: 0.9210197954715436\n",
      "epoch: 152 loss: 0.9200116087165\n",
      "epoch: 153 loss: 0.920688399991559\n",
      "epoch: 154 loss: 0.9197536342168133\n",
      "epoch: 155 loss: 0.9197580113554751\n",
      "epoch: 156 loss: 0.9198241822523222\n",
      "epoch: 157 loss: 0.9195702668920197\n",
      "epoch: 158 loss: 0.9191560479453706\n",
      "epoch: 159 loss: 0.919306459502643\n",
      "epoch: 160 loss: 0.9188500539734528\n",
      "epoch: 161 loss: 0.9190318284715846\n",
      "epoch: 162 loss: 0.918413885567567\n",
      "epoch: 163 loss: 0.9185923223381771\n",
      "epoch: 164 loss: 0.9185459330062914\n",
      "epoch: 165 loss: 0.9180721552808249\n",
      "epoch: 166 loss: 0.9177151334427036\n",
      "epoch: 167 loss: 0.9181257000879112\n",
      "epoch: 168 loss: 0.9174655251542703\n",
      "epoch: 169 loss: 0.9179414506298015\n",
      "epoch: 170 loss: 0.9174997244319589\n",
      "epoch: 171 loss: 0.9172716307474955\n",
      "epoch: 172 loss: 0.9171582138733212\n",
      "epoch: 173 loss: 0.9176796602612127\n",
      "epoch: 174 loss: 0.9173682479009404\n",
      "epoch: 175 loss: 0.9169403591469739\n",
      "epoch: 176 loss: 0.9171827396726782\n",
      "epoch: 177 loss: 0.916790004943536\n",
      "epoch: 178 loss: 0.9164872999745789\n",
      "epoch: 179 loss: 0.9173781862081255\n",
      "epoch: 180 loss: 0.9167621077411506\n",
      "epoch: 181 loss: 0.9164341262071705\n",
      "epoch: 182 loss: 0.9166515771916479\n",
      "epoch: 183 loss: 0.916075582766871\n",
      "epoch: 184 loss: 0.9163464192694836\n",
      "epoch: 185 loss: 0.9158540250662985\n",
      "epoch: 186 loss: 0.9157651769070856\n",
      "epoch: 187 loss: 0.9161403498739034\n",
      "epoch: 188 loss: 0.9156433969308168\n",
      "epoch: 189 loss: 0.9159768171615301\n",
      "epoch: 190 loss: 0.9155963628482373\n",
      "epoch: 191 loss: 0.9155475379654523\n",
      "epoch: 192 loss: 0.9151035589357095\n",
      "epoch: 193 loss: 0.9153239742806034\n",
      "epoch: 194 loss: 0.915356974347289\n",
      "epoch: 195 loss: 0.9153310006028461\n",
      "epoch: 196 loss: 0.9149684340192353\n",
      "epoch: 197 loss: 0.9152759554707356\n",
      "epoch: 198 loss: 0.9146703872599409\n",
      "epoch: 199 loss: 0.9143753348854433\n",
      "epoch: 200 loss: 0.9145964027581607\n"
     ]
    }
   ],
   "source": [
    "nb_epoch = 200\n",
    "for epoch in range(1, nb_epoch+1):\n",
    "    train_loss = 0\n",
    "    s = 0.\n",
    "    for id_user in range(nb_users):\n",
    "        input = training_set[id_user].unsqueeze(0) # pytorch will only accept in batches.\n",
    "                                                   # Hence with batch 1 (or) inline training\n",
    "                                                   # Basically reshaping\n",
    "        target = input.clone()\n",
    "        if torch.sum(target.data > 0) > 0: # getting only the users who have rated atleast one movie\n",
    "            output = sae.forward(input)\n",
    "            target.require_grad = False # gradient should only be computed w.r.t input & not the target variable\n",
    "                                        #  This will reduce the computations and saves up the memory\n",
    "            output[target == 0] = 0 # These values will not count in computation of error\n",
    "                                    # since these are the movies the user haven't rated yet\n",
    "            loss = criterion(output, target)\n",
    "            mean_corrector = nb_movies / float(torch.sum(target.data > 0) + 1e-10) # 1e-10 is added for safety,\n",
    "                                                                                   # incase the denominator is zero\n",
    "            loss.backward() # decrease the weights\n",
    "            train_loss += np.sqrt(loss.item() * mean_corrector)\n",
    "            s += 1.\n",
    "            optimizer.step() # decides the intensity of the weight to be decreased / increased\n",
    "                             # decreased in this case as we've used loss.backward()\n",
    "    print('epoch: ' + str(epoch) + ' loss: ' + str(train_loss / s))"
   ]
  },
  {
   "cell_type": "markdown",
   "id": "aerial-portfolio",
   "metadata": {},
   "source": [
    "# Testing the SAE"
   ]
  },
  {
   "cell_type": "code",
   "execution_count": 66,
   "id": "numeric-northern",
   "metadata": {},
   "outputs": [
    {
     "name": "stdout",
     "output_type": "stream",
     "text": [
      "Test loss: 0.9523516666347843\n"
     ]
    }
   ],
   "source": [
    "test_loss = 0\n",
    "s = 0.\n",
    "for id_user in range(nb_users):\n",
    "    input = training_set[id_user].unsqueeze(0) # pytorch will only accept in batches.\n",
    "                                               # Hence with batch 1 (or) inline training\n",
    "                                               # Basically reshaping\n",
    "    target = test_set[id_user].unsqueeze(0)\n",
    "    if torch.sum(target.data > 0) > 0: # getting only the users who have rated atleast one movie\n",
    "        output = sae.forward(input)\n",
    "        target.require_grad = False # gradient should only be computed w.r.t input & not the target variable\n",
    "                                        #  This will reduce the computations and saves up the memory\n",
    "        output[target == 0] = 0 # These values will not count in computation of error\n",
    "                                # since these are the movies the user haven't rated yet\n",
    "        loss = criterion(output, target)\n",
    "        mean_corrector = nb_movies / float(torch.sum(target.data > 0) + 1e-10) # 1e-10 is added for safety,\n",
    "                                                                               # incase the denominator is zero\n",
    "        test_loss += np.sqrt(loss.item() * mean_corrector)\n",
    "        s += 1.\n",
    "print('Test loss: ' + str(test_loss / s))"
   ]
  },
  {
   "cell_type": "markdown",
   "id": "distant-airplane",
   "metadata": {},
   "source": [
    "**On average the predicted rating will be different from the real rating by less than 1 star**"
   ]
  }
 ],
 "metadata": {
  "kernelspec": {
   "display_name": "Python 3",
   "language": "python",
   "name": "python3"
  },
  "language_info": {
   "codemirror_mode": {
    "name": "ipython",
    "version": 3
   },
   "file_extension": ".py",
   "mimetype": "text/x-python",
   "name": "python",
   "nbconvert_exporter": "python",
   "pygments_lexer": "ipython3",
   "version": "3.7.9"
  }
 },
 "nbformat": 4,
 "nbformat_minor": 5
}
